{
 "cells": [
  {
   "cell_type": "code",
   "execution_count": 1,
   "id": "cdfe59e9-1e65-4cd7-b685-3a06636581dd",
   "metadata": {},
   "outputs": [],
   "source": [
    "import pandas as pd\n",
    "import numpy as np \n",
    "import matplotlib.pyplot as plt\n",
    "import seaborn as sns"
   ]
  },
  {
   "cell_type": "markdown",
   "id": "f133f012-ce1d-495a-bcba-09b32f10c9d4",
   "metadata": {},
   "source": [
    "#### 1.Data Cleaning and Preparation"
   ]
  },
  {
   "cell_type": "markdown",
   "id": "08c1f0a5-a2b9-42d4-a18d-cd47b84d4a6b",
   "metadata": {},
   "source": [
    "#### READ THE DATA "
   ]
  },
  {
   "cell_type": "code",
   "execution_count": 3,
   "id": "3384dd49-dc84-4f57-9661-68932a69756d",
   "metadata": {},
   "outputs": [
    {
     "data": {
      "text/html": [
       "<div>\n",
       "<style scoped>\n",
       "    .dataframe tbody tr th:only-of-type {\n",
       "        vertical-align: middle;\n",
       "    }\n",
       "\n",
       "    .dataframe tbody tr th {\n",
       "        vertical-align: top;\n",
       "    }\n",
       "\n",
       "    .dataframe thead th {\n",
       "        text-align: right;\n",
       "    }\n",
       "</style>\n",
       "<table border=\"1\" class=\"dataframe\">\n",
       "  <thead>\n",
       "    <tr style=\"text-align: right;\">\n",
       "      <th></th>\n",
       "      <th>LB</th>\n",
       "      <th>AC</th>\n",
       "      <th>FM</th>\n",
       "      <th>UC</th>\n",
       "      <th>DL</th>\n",
       "      <th>DS</th>\n",
       "      <th>DP</th>\n",
       "      <th>ASTV</th>\n",
       "      <th>MSTV</th>\n",
       "      <th>ALTV</th>\n",
       "      <th>MLTV</th>\n",
       "      <th>Width</th>\n",
       "      <th>Tendency</th>\n",
       "      <th>NSP</th>\n",
       "    </tr>\n",
       "  </thead>\n",
       "  <tbody>\n",
       "    <tr>\n",
       "      <th>0</th>\n",
       "      <td>120.000000</td>\n",
       "      <td>0.000000</td>\n",
       "      <td>0.0</td>\n",
       "      <td>0.000000</td>\n",
       "      <td>0.000000</td>\n",
       "      <td>0.0</td>\n",
       "      <td>0.0</td>\n",
       "      <td>73.0</td>\n",
       "      <td>0.5</td>\n",
       "      <td>43.0</td>\n",
       "      <td>2.4</td>\n",
       "      <td>64.0</td>\n",
       "      <td>0.999926</td>\n",
       "      <td>2.0</td>\n",
       "    </tr>\n",
       "    <tr>\n",
       "      <th>1</th>\n",
       "      <td>132.000000</td>\n",
       "      <td>0.006380</td>\n",
       "      <td>0.0</td>\n",
       "      <td>0.006380</td>\n",
       "      <td>0.003190</td>\n",
       "      <td>0.0</td>\n",
       "      <td>0.0</td>\n",
       "      <td>17.0</td>\n",
       "      <td>2.1</td>\n",
       "      <td>0.0</td>\n",
       "      <td>10.4</td>\n",
       "      <td>130.0</td>\n",
       "      <td>0.000000</td>\n",
       "      <td>1.0</td>\n",
       "    </tr>\n",
       "    <tr>\n",
       "      <th>2</th>\n",
       "      <td>133.000000</td>\n",
       "      <td>0.003322</td>\n",
       "      <td>0.0</td>\n",
       "      <td>0.008306</td>\n",
       "      <td>0.003322</td>\n",
       "      <td>0.0</td>\n",
       "      <td>0.0</td>\n",
       "      <td>16.0</td>\n",
       "      <td>2.1</td>\n",
       "      <td>0.0</td>\n",
       "      <td>13.4</td>\n",
       "      <td>130.0</td>\n",
       "      <td>0.000000</td>\n",
       "      <td>1.0</td>\n",
       "    </tr>\n",
       "    <tr>\n",
       "      <th>3</th>\n",
       "      <td>134.000000</td>\n",
       "      <td>0.002561</td>\n",
       "      <td>0.0</td>\n",
       "      <td>0.007742</td>\n",
       "      <td>0.002561</td>\n",
       "      <td>0.0</td>\n",
       "      <td>0.0</td>\n",
       "      <td>16.0</td>\n",
       "      <td>2.4</td>\n",
       "      <td>0.0</td>\n",
       "      <td>23.0</td>\n",
       "      <td>117.0</td>\n",
       "      <td>1.000000</td>\n",
       "      <td>1.0</td>\n",
       "    </tr>\n",
       "    <tr>\n",
       "      <th>4</th>\n",
       "      <td>131.948232</td>\n",
       "      <td>0.006515</td>\n",
       "      <td>0.0</td>\n",
       "      <td>0.008143</td>\n",
       "      <td>0.000000</td>\n",
       "      <td>0.0</td>\n",
       "      <td>0.0</td>\n",
       "      <td>16.0</td>\n",
       "      <td>2.4</td>\n",
       "      <td>0.0</td>\n",
       "      <td>19.9</td>\n",
       "      <td>117.0</td>\n",
       "      <td>1.000000</td>\n",
       "      <td>1.0</td>\n",
       "    </tr>\n",
       "  </tbody>\n",
       "</table>\n",
       "</div>"
      ],
      "text/plain": [
       "           LB        AC   FM        UC        DL   DS   DP  ASTV  MSTV  ALTV  \\\n",
       "0  120.000000  0.000000  0.0  0.000000  0.000000  0.0  0.0  73.0   0.5  43.0   \n",
       "1  132.000000  0.006380  0.0  0.006380  0.003190  0.0  0.0  17.0   2.1   0.0   \n",
       "2  133.000000  0.003322  0.0  0.008306  0.003322  0.0  0.0  16.0   2.1   0.0   \n",
       "3  134.000000  0.002561  0.0  0.007742  0.002561  0.0  0.0  16.0   2.4   0.0   \n",
       "4  131.948232  0.006515  0.0  0.008143  0.000000  0.0  0.0  16.0   2.4   0.0   \n",
       "\n",
       "   MLTV  Width  Tendency  NSP  \n",
       "0   2.4   64.0  0.999926  2.0  \n",
       "1  10.4  130.0  0.000000  1.0  \n",
       "2  13.4  130.0  0.000000  1.0  \n",
       "3  23.0  117.0  1.000000  1.0  \n",
       "4  19.9  117.0  1.000000  1.0  "
      ]
     },
     "execution_count": 3,
     "metadata": {},
     "output_type": "execute_result"
    }
   ],
   "source": [
    "data=pd.read_csv('Cardiotocographic.csv')\n",
    "data.head()"
   ]
  },
  {
   "cell_type": "code",
   "execution_count": 4,
   "id": "6b19580d-666f-4afd-a1ea-049cde7b3879",
   "metadata": {},
   "outputs": [
    {
     "name": "stdout",
     "output_type": "stream",
     "text": [
      "<class 'pandas.core.frame.DataFrame'>\n",
      "RangeIndex: 2126 entries, 0 to 2125\n",
      "Data columns (total 14 columns):\n",
      " #   Column    Non-Null Count  Dtype  \n",
      "---  ------    --------------  -----  \n",
      " 0   LB        2105 non-null   float64\n",
      " 1   AC        2106 non-null   float64\n",
      " 2   FM        2126 non-null   float64\n",
      " 3   UC        2126 non-null   float64\n",
      " 4   DL        2126 non-null   float64\n",
      " 5   DS        2105 non-null   float64\n",
      " 6   DP        2105 non-null   float64\n",
      " 7   ASTV      2126 non-null   float64\n",
      " 8   MSTV      2126 non-null   float64\n",
      " 9   ALTV      2126 non-null   float64\n",
      " 10  MLTV      2105 non-null   float64\n",
      " 11  Width     2105 non-null   float64\n",
      " 12  Tendency  2105 non-null   float64\n",
      " 13  NSP       2105 non-null   float64\n",
      "dtypes: float64(14)\n",
      "memory usage: 232.7 KB\n"
     ]
    }
   ],
   "source": [
    "data.info()"
   ]
  },
  {
   "cell_type": "code",
   "execution_count": 5,
   "id": "acd20cd2-ae11-4fb0-b0ba-b0ecbabfa4cb",
   "metadata": {},
   "outputs": [
    {
     "data": {
      "text/plain": [
       "Index(['LB', 'AC', 'FM', 'UC', 'DL', 'DS', 'DP', 'ASTV', 'MSTV', 'ALTV',\n",
       "       'MLTV', 'Width', 'Tendency', 'NSP'],\n",
       "      dtype='object')"
      ]
     },
     "execution_count": 5,
     "metadata": {},
     "output_type": "execute_result"
    }
   ],
   "source": [
    "data.columns"
   ]
  },
  {
   "cell_type": "code",
   "execution_count": 9,
   "id": "c898b57b-6d58-4562-bc7d-f5f45806cd7c",
   "metadata": {},
   "outputs": [
    {
     "data": {
      "text/html": [
       "<div>\n",
       "<style scoped>\n",
       "    .dataframe tbody tr th:only-of-type {\n",
       "        vertical-align: middle;\n",
       "    }\n",
       "\n",
       "    .dataframe tbody tr th {\n",
       "        vertical-align: top;\n",
       "    }\n",
       "\n",
       "    .dataframe thead th {\n",
       "        text-align: right;\n",
       "    }\n",
       "</style>\n",
       "<table border=\"1\" class=\"dataframe\">\n",
       "  <thead>\n",
       "    <tr style=\"text-align: right;\">\n",
       "      <th></th>\n",
       "      <th>LB</th>\n",
       "      <th>AC</th>\n",
       "      <th>FM</th>\n",
       "      <th>UC</th>\n",
       "      <th>DL</th>\n",
       "      <th>DS</th>\n",
       "      <th>DP</th>\n",
       "      <th>ASTV</th>\n",
       "      <th>MSTV</th>\n",
       "      <th>ALTV</th>\n",
       "      <th>MLTV</th>\n",
       "      <th>Width</th>\n",
       "      <th>Tendency</th>\n",
       "      <th>NSP</th>\n",
       "    </tr>\n",
       "  </thead>\n",
       "  <tbody>\n",
       "    <tr>\n",
       "      <th>count</th>\n",
       "      <td>2105.000000</td>\n",
       "      <td>2106.000000</td>\n",
       "      <td>2126.000000</td>\n",
       "      <td>2126.000000</td>\n",
       "      <td>2126.000000</td>\n",
       "      <td>2105.000000</td>\n",
       "      <td>2105.000000</td>\n",
       "      <td>2126.000000</td>\n",
       "      <td>2126.000000</td>\n",
       "      <td>2126.000000</td>\n",
       "      <td>2105.000000</td>\n",
       "      <td>2105.000000</td>\n",
       "      <td>2105.000000</td>\n",
       "      <td>2105.000000</td>\n",
       "    </tr>\n",
       "    <tr>\n",
       "      <th>mean</th>\n",
       "      <td>133.343598</td>\n",
       "      <td>0.003219</td>\n",
       "      <td>0.009894</td>\n",
       "      <td>0.004391</td>\n",
       "      <td>0.001895</td>\n",
       "      <td>0.000003</td>\n",
       "      <td>0.000175</td>\n",
       "      <td>46.995984</td>\n",
       "      <td>1.364378</td>\n",
       "      <td>10.285964</td>\n",
       "      <td>8.284887</td>\n",
       "      <td>70.429260</td>\n",
       "      <td>0.316371</td>\n",
       "      <td>1.304507</td>\n",
       "    </tr>\n",
       "    <tr>\n",
       "      <th>std</th>\n",
       "      <td>11.270154</td>\n",
       "      <td>0.004391</td>\n",
       "      <td>0.067540</td>\n",
       "      <td>0.003340</td>\n",
       "      <td>0.003343</td>\n",
       "      <td>0.000142</td>\n",
       "      <td>0.000840</td>\n",
       "      <td>18.813973</td>\n",
       "      <td>1.173632</td>\n",
       "      <td>21.205041</td>\n",
       "      <td>7.772858</td>\n",
       "      <td>42.931822</td>\n",
       "      <td>0.645622</td>\n",
       "      <td>0.644619</td>\n",
       "    </tr>\n",
       "    <tr>\n",
       "      <th>min</th>\n",
       "      <td>51.842487</td>\n",
       "      <td>-0.019284</td>\n",
       "      <td>-0.480634</td>\n",
       "      <td>-0.014925</td>\n",
       "      <td>-0.015393</td>\n",
       "      <td>-0.001353</td>\n",
       "      <td>-0.005348</td>\n",
       "      <td>-63.000000</td>\n",
       "      <td>-6.600000</td>\n",
       "      <td>-91.000000</td>\n",
       "      <td>-50.700000</td>\n",
       "      <td>-174.000000</td>\n",
       "      <td>-3.000000</td>\n",
       "      <td>-1.025988</td>\n",
       "    </tr>\n",
       "    <tr>\n",
       "      <th>25%</th>\n",
       "      <td>126.000000</td>\n",
       "      <td>0.000000</td>\n",
       "      <td>0.000000</td>\n",
       "      <td>0.001851</td>\n",
       "      <td>0.000000</td>\n",
       "      <td>0.000000</td>\n",
       "      <td>0.000000</td>\n",
       "      <td>32.000000</td>\n",
       "      <td>0.700000</td>\n",
       "      <td>0.000000</td>\n",
       "      <td>4.600000</td>\n",
       "      <td>37.000000</td>\n",
       "      <td>0.000000</td>\n",
       "      <td>1.000000</td>\n",
       "    </tr>\n",
       "    <tr>\n",
       "      <th>50%</th>\n",
       "      <td>133.000000</td>\n",
       "      <td>0.001634</td>\n",
       "      <td>0.000000</td>\n",
       "      <td>0.004484</td>\n",
       "      <td>0.000000</td>\n",
       "      <td>0.000000</td>\n",
       "      <td>0.000000</td>\n",
       "      <td>49.000000</td>\n",
       "      <td>1.200000</td>\n",
       "      <td>0.000000</td>\n",
       "      <td>7.400000</td>\n",
       "      <td>67.000000</td>\n",
       "      <td>0.000000</td>\n",
       "      <td>1.000000</td>\n",
       "    </tr>\n",
       "    <tr>\n",
       "      <th>75%</th>\n",
       "      <td>140.000000</td>\n",
       "      <td>0.005650</td>\n",
       "      <td>0.002567</td>\n",
       "      <td>0.006536</td>\n",
       "      <td>0.003289</td>\n",
       "      <td>0.000000</td>\n",
       "      <td>0.000000</td>\n",
       "      <td>61.000000</td>\n",
       "      <td>1.700000</td>\n",
       "      <td>11.000000</td>\n",
       "      <td>10.900000</td>\n",
       "      <td>100.000000</td>\n",
       "      <td>1.000000</td>\n",
       "      <td>1.000000</td>\n",
       "    </tr>\n",
       "    <tr>\n",
       "      <th>max</th>\n",
       "      <td>214.000000</td>\n",
       "      <td>0.038567</td>\n",
       "      <td>0.961268</td>\n",
       "      <td>0.030002</td>\n",
       "      <td>0.030769</td>\n",
       "      <td>0.002706</td>\n",
       "      <td>0.010695</td>\n",
       "      <td>162.000000</td>\n",
       "      <td>13.800000</td>\n",
       "      <td>182.000000</td>\n",
       "      <td>101.400000</td>\n",
       "      <td>357.000000</td>\n",
       "      <td>3.000000</td>\n",
       "      <td>5.000000</td>\n",
       "    </tr>\n",
       "  </tbody>\n",
       "</table>\n",
       "</div>"
      ],
      "text/plain": [
       "                LB           AC           FM           UC           DL  \\\n",
       "count  2105.000000  2106.000000  2126.000000  2126.000000  2126.000000   \n",
       "mean    133.343598     0.003219     0.009894     0.004391     0.001895   \n",
       "std      11.270154     0.004391     0.067540     0.003340     0.003343   \n",
       "min      51.842487    -0.019284    -0.480634    -0.014925    -0.015393   \n",
       "25%     126.000000     0.000000     0.000000     0.001851     0.000000   \n",
       "50%     133.000000     0.001634     0.000000     0.004484     0.000000   \n",
       "75%     140.000000     0.005650     0.002567     0.006536     0.003289   \n",
       "max     214.000000     0.038567     0.961268     0.030002     0.030769   \n",
       "\n",
       "                DS           DP         ASTV         MSTV         ALTV  \\\n",
       "count  2105.000000  2105.000000  2126.000000  2126.000000  2126.000000   \n",
       "mean      0.000003     0.000175    46.995984     1.364378    10.285964   \n",
       "std       0.000142     0.000840    18.813973     1.173632    21.205041   \n",
       "min      -0.001353    -0.005348   -63.000000    -6.600000   -91.000000   \n",
       "25%       0.000000     0.000000    32.000000     0.700000     0.000000   \n",
       "50%       0.000000     0.000000    49.000000     1.200000     0.000000   \n",
       "75%       0.000000     0.000000    61.000000     1.700000    11.000000   \n",
       "max       0.002706     0.010695   162.000000    13.800000   182.000000   \n",
       "\n",
       "              MLTV        Width     Tendency          NSP  \n",
       "count  2105.000000  2105.000000  2105.000000  2105.000000  \n",
       "mean      8.284887    70.429260     0.316371     1.304507  \n",
       "std       7.772858    42.931822     0.645622     0.644619  \n",
       "min     -50.700000  -174.000000    -3.000000    -1.025988  \n",
       "25%       4.600000    37.000000     0.000000     1.000000  \n",
       "50%       7.400000    67.000000     0.000000     1.000000  \n",
       "75%      10.900000   100.000000     1.000000     1.000000  \n",
       "max     101.400000   357.000000     3.000000     5.000000  "
      ]
     },
     "execution_count": 9,
     "metadata": {},
     "output_type": "execute_result"
    }
   ],
   "source": [
    "data.describe()"
   ]
  },
  {
   "cell_type": "code",
   "execution_count": 11,
   "id": "58b076d8-2518-4f9b-b821-68ab605e4fde",
   "metadata": {},
   "outputs": [
    {
     "data": {
      "text/plain": [
       "(2126, 14)"
      ]
     },
     "execution_count": 11,
     "metadata": {},
     "output_type": "execute_result"
    }
   ],
   "source": [
    "data.shape"
   ]
  },
  {
   "cell_type": "code",
   "execution_count": 12,
   "id": "ff4f8aa0-01f4-4bdd-9506-8a49e64ff0d4",
   "metadata": {},
   "outputs": [
    {
     "data": {
      "text/plain": [
       "RangeIndex(start=0, stop=2126, step=1)"
      ]
     },
     "execution_count": 12,
     "metadata": {},
     "output_type": "execute_result"
    }
   ],
   "source": [
    "data.index"
   ]
  },
  {
   "cell_type": "markdown",
   "id": "ef19d03d-e673-4a58-9622-17b381b02043",
   "metadata": {},
   "source": [
    "#### Check for duplicates"
   ]
  },
  {
   "cell_type": "code",
   "execution_count": 17,
   "id": "ee66cae2-8b85-4ea8-a979-716bcf337c7d",
   "metadata": {},
   "outputs": [
    {
     "data": {
      "text/html": [
       "<div>\n",
       "<style scoped>\n",
       "    .dataframe tbody tr th:only-of-type {\n",
       "        vertical-align: middle;\n",
       "    }\n",
       "\n",
       "    .dataframe tbody tr th {\n",
       "        vertical-align: top;\n",
       "    }\n",
       "\n",
       "    .dataframe thead th {\n",
       "        text-align: right;\n",
       "    }\n",
       "</style>\n",
       "<table border=\"1\" class=\"dataframe\">\n",
       "  <thead>\n",
       "    <tr style=\"text-align: right;\">\n",
       "      <th></th>\n",
       "      <th>LB</th>\n",
       "      <th>AC</th>\n",
       "      <th>FM</th>\n",
       "      <th>UC</th>\n",
       "      <th>DL</th>\n",
       "      <th>DS</th>\n",
       "      <th>DP</th>\n",
       "      <th>ASTV</th>\n",
       "      <th>MSTV</th>\n",
       "      <th>ALTV</th>\n",
       "      <th>MLTV</th>\n",
       "      <th>Width</th>\n",
       "      <th>Tendency</th>\n",
       "      <th>NSP</th>\n",
       "    </tr>\n",
       "  </thead>\n",
       "  <tbody>\n",
       "    <tr>\n",
       "      <th>1115</th>\n",
       "      <td>122.0</td>\n",
       "      <td>0.000000</td>\n",
       "      <td>0.0</td>\n",
       "      <td>0.000000</td>\n",
       "      <td>0.0</td>\n",
       "      <td>0.0</td>\n",
       "      <td>0.0</td>\n",
       "      <td>19.0</td>\n",
       "      <td>1.9</td>\n",
       "      <td>0.0</td>\n",
       "      <td>15.1</td>\n",
       "      <td>39.0</td>\n",
       "      <td>0.0</td>\n",
       "      <td>1.0</td>\n",
       "    </tr>\n",
       "    <tr>\n",
       "      <th>1458</th>\n",
       "      <td>148.0</td>\n",
       "      <td>0.004717</td>\n",
       "      <td>0.0</td>\n",
       "      <td>0.002358</td>\n",
       "      <td>0.0</td>\n",
       "      <td>0.0</td>\n",
       "      <td>0.0</td>\n",
       "      <td>40.0</td>\n",
       "      <td>0.9</td>\n",
       "      <td>0.0</td>\n",
       "      <td>10.6</td>\n",
       "      <td>35.0</td>\n",
       "      <td>0.0</td>\n",
       "      <td>1.0</td>\n",
       "    </tr>\n",
       "  </tbody>\n",
       "</table>\n",
       "</div>"
      ],
      "text/plain": [
       "         LB        AC   FM        UC   DL   DS   DP  ASTV  MSTV  ALTV  MLTV  \\\n",
       "1115  122.0  0.000000  0.0  0.000000  0.0  0.0  0.0  19.0   1.9   0.0  15.1   \n",
       "1458  148.0  0.004717  0.0  0.002358  0.0  0.0  0.0  40.0   0.9   0.0  10.6   \n",
       "\n",
       "      Width  Tendency  NSP  \n",
       "1115   39.0       0.0  1.0  \n",
       "1458   35.0       0.0  1.0  "
      ]
     },
     "execution_count": 17,
     "metadata": {},
     "output_type": "execute_result"
    }
   ],
   "source": [
    "data[data.duplicated()]"
   ]
  },
  {
   "cell_type": "code",
   "execution_count": 18,
   "id": "b610ef1f-9ce5-4ba7-b1e6-3c1b2c491e65",
   "metadata": {},
   "outputs": [],
   "source": [
    "data.drop_duplicates(inplace=True)"
   ]
  },
  {
   "cell_type": "code",
   "execution_count": 19,
   "id": "9c1c7104-c25f-4595-80a4-87a78219f0dc",
   "metadata": {},
   "outputs": [
    {
     "data": {
      "text/plain": [
       "(2124, 14)"
      ]
     },
     "execution_count": 19,
     "metadata": {},
     "output_type": "execute_result"
    }
   ],
   "source": [
    "data.shape"
   ]
  },
  {
   "cell_type": "markdown",
   "id": "817a2602-c23c-4367-aa7e-01261da86f0c",
   "metadata": {},
   "source": [
    "#### check for null values"
   ]
  },
  {
   "cell_type": "code",
   "execution_count": 22,
   "id": "aa564e91-57af-4295-a250-ca832a0be7d4",
   "metadata": {},
   "outputs": [
    {
     "data": {
      "text/plain": [
       "LB          21\n",
       "AC          20\n",
       "FM           0\n",
       "UC           0\n",
       "DL           0\n",
       "DS          21\n",
       "DP          21\n",
       "ASTV         0\n",
       "MSTV         0\n",
       "ALTV         0\n",
       "MLTV        21\n",
       "Width       21\n",
       "Tendency    21\n",
       "NSP         21\n",
       "dtype: int64"
      ]
     },
     "execution_count": 22,
     "metadata": {},
     "output_type": "execute_result"
    }
   ],
   "source": [
    "data.isna().sum()"
   ]
  },
  {
   "cell_type": "code",
   "execution_count": 27,
   "id": "09256ce8-083c-4e33-8cb1-3c4cd95d0ee2",
   "metadata": {},
   "outputs": [
    {
     "data": {
      "image/png": "[encoded data removed]",
      "text/plain": [
       "<Figure size 640x480 with 2 Axes>"
      ]
     },
     "metadata": {},
     "output_type": "display_data"
    }
   ],
   "source": [
    "colmap=['blue','yellow']\n",
    "sns.heatmap(data.isna(),cmap=colmap)\n",
    "plt.show()"
   ]
  },
  {
   "cell_type": "code",
   "execution_count": 33,
   "id": "435dec30-196d-4d92-9d81-3af2d46dc622",
   "metadata": {},
   "outputs": [],
   "source": [
    "LB_mean=data['LB'].mean()\n",
    "AC_mean=data['AC'].mean()\n",
    "DS_mean=data['DS'].mean()\n",
    "DP_mean=data['DP'].mean()\n",
    "MLTV_mean=data['MLTV'].mean()\n",
    "Width_mean=data['Width'].mean()\n",
    "Tendency_mean=data['Tendency'].mean()\n",
    "NSP_mean=data['NSP'].mean()"
   ]
  },
  {
   "cell_type": "code",
   "execution_count": 32,
   "id": "482097bb-bd7d-41c8-9ded-64ceb7a8270b",
   "metadata": {},
   "outputs": [
    {
     "data": {
      "text/plain": [
       "Index(['LB', 'AC', 'FM', 'UC', 'DL', 'DS', 'DP', 'ASTV', 'MSTV', 'ALTV',\n",
       "       'MLTV', 'Width', 'Tendency', 'NSP'],\n",
       "      dtype='object')"
      ]
     },
     "execution_count": 32,
     "metadata": {},
     "output_type": "execute_result"
    }
   ],
   "source": [
    "data.columns"
   ]
  },
  {
   "cell_type": "code",
   "execution_count": 36,
   "id": "4e52e2de-5b14-4903-beed-f895b885eac1",
   "metadata": {},
   "outputs": [],
   "source": [
    "data.fillna({'LB':LB_mean,\n",
    "                    'AC':AC_mean,\n",
    "                    'DS':DS_mean,\n",
    "                    'DP':DP_mean,\n",
    "                    'MLTV':MLTV_mean,\n",
    "                    'Width':Width_mean,\n",
    "                    'Tendency':Tendency_mean,\n",
    "                    'NSP':NSP_mean},inplace=True)"
   ]
  },
  {
   "cell_type": "code",
   "execution_count": 38,
   "id": "5e80f60e-9298-4dce-bd5c-4acca531c21b",
   "metadata": {},
   "outputs": [
    {
     "name": "stdout",
     "output_type": "stream",
     "text": [
      "<class 'pandas.core.frame.DataFrame'>\n",
      "Index: 2124 entries, 0 to 2125\n",
      "Data columns (total 14 columns):\n",
      " #   Column    Non-Null Count  Dtype  \n",
      "---  ------    --------------  -----  \n",
      " 0   LB        2124 non-null   float64\n",
      " 1   AC        2124 non-null   float64\n",
      " 2   FM        2124 non-null   float64\n",
      " 3   UC        2124 non-null   float64\n",
      " 4   DL        2124 non-null   float64\n",
      " 5   DS        2124 non-null   float64\n",
      " 6   DP        2124 non-null   float64\n",
      " 7   ASTV      2124 non-null   float64\n",
      " 8   MSTV      2124 non-null   float64\n",
      " 9   ALTV      2124 non-null   float64\n",
      " 10  MLTV      2124 non-null   float64\n",
      " 11  Width     2124 non-null   float64\n",
      " 12  Tendency  2124 non-null   float64\n",
      " 13  NSP       2124 non-null   float64\n",
      "dtypes: float64(14)\n",
      "memory usage: 248.9 KB\n"
     ]
    }
   ],
   "source": [
    "data.info()"
   ]
  },
  {
   "cell_type": "markdown",
   "id": "160b2435-9b9f-4c87-90c6-7151e84e0d28",
   "metadata": {},
   "source": [
    "#### 2.Statistical Summary:"
   ]
  },
  {
   "cell_type": "markdown",
   "id": "aa108daa-14db-449a-ab96-ee1cacce8235",
   "metadata": {},
   "source": [
    "##### here we calculated mean,standard deviation,variance and Interquartile range"
   ]
  },
  {
   "cell_type": "code",
   "execution_count": 39,
   "id": "485c43bf-ed81-49eb-8a47-d518dc03ec1e",
   "metadata": {},
   "outputs": [
    {
     "data": {
      "text/plain": [
       "LB          133.342023\n",
       "AC            0.003220\n",
       "FM            0.009904\n",
       "UC            0.004394\n",
       "DL            0.001897\n",
       "DS            0.000003\n",
       "DP            0.000175\n",
       "ASTV         47.012459\n",
       "MSTV          1.364345\n",
       "ALTV         10.295650\n",
       "MLTV          8.280546\n",
       "Width        70.461052\n",
       "Tendency      0.316672\n",
       "NSP           1.304797\n",
       "dtype: float64"
      ]
     },
     "execution_count": 39,
     "metadata": {},
     "output_type": "execute_result"
    }
   ],
   "source": [
    "data.mean()"
   ]
  },
  {
   "cell_type": "code",
   "execution_count": 40,
   "id": "5628376f-26a1-46b7-a230-21ac0a087a1b",
   "metadata": {},
   "outputs": [
    {
     "data": {
      "text/plain": [
       "LB          11.212396\n",
       "AC           0.004371\n",
       "FM           0.067571\n",
       "UC           0.003340\n",
       "DL           0.003344\n",
       "DS           0.000141\n",
       "DP           0.000836\n",
       "ASTV        18.812403\n",
       "MSTV         1.174084\n",
       "ALTV        21.212676\n",
       "MLTV         7.736420\n",
       "Width       42.726905\n",
       "Tendency     0.642653\n",
       "NSP          0.641660\n",
       "dtype: float64"
      ]
     },
     "execution_count": 40,
     "metadata": {},
     "output_type": "execute_result"
    }
   ],
   "source": [
    "data.std()"
   ]
  },
  {
   "cell_type": "code",
   "execution_count": 41,
   "id": "9622c34e-ffd6-473a-a9f6-762af9f6ae35",
   "metadata": {},
   "outputs": [
    {
     "data": {
      "text/plain": [
       "LB          1.257178e+02\n",
       "AC          1.910949e-05\n",
       "FM          4.565813e-03\n",
       "UC          1.115817e-05\n",
       "DL          1.118066e-05\n",
       "DS          1.985300e-08\n",
       "DP          6.988756e-07\n",
       "ASTV        3.539065e+02\n",
       "MSTV        1.378473e+00\n",
       "ALTV        4.499776e+02\n",
       "MLTV        5.985219e+01\n",
       "Width       1.825588e+03\n",
       "Tendency    4.130028e-01\n",
       "NSP         4.117276e-01\n",
       "dtype: float64"
      ]
     },
     "execution_count": 41,
     "metadata": {},
     "output_type": "execute_result"
    }
   ],
   "source": [
    "data.var()"
   ]
  },
  {
   "cell_type": "code",
   "execution_count": 42,
   "id": "da810312-a1b6-44c0-9b3c-8d1eeb2f0b6d",
   "metadata": {},
   "outputs": [
    {
     "data": {
      "text/html": [
       "<div>\n",
       "<style scoped>\n",
       "    .dataframe tbody tr th:only-of-type {\n",
       "        vertical-align: middle;\n",
       "    }\n",
       "\n",
       "    .dataframe tbody tr th {\n",
       "        vertical-align: top;\n",
       "    }\n",
       "\n",
       "    .dataframe thead th {\n",
       "        text-align: right;\n",
       "    }\n",
       "</style>\n",
       "<table border=\"1\" class=\"dataframe\">\n",
       "  <thead>\n",
       "    <tr style=\"text-align: right;\">\n",
       "      <th></th>\n",
       "      <th>LB</th>\n",
       "      <th>AC</th>\n",
       "      <th>FM</th>\n",
       "      <th>UC</th>\n",
       "      <th>DL</th>\n",
       "      <th>DS</th>\n",
       "      <th>DP</th>\n",
       "      <th>ASTV</th>\n",
       "      <th>MSTV</th>\n",
       "      <th>ALTV</th>\n",
       "      <th>MLTV</th>\n",
       "      <th>Width</th>\n",
       "      <th>Tendency</th>\n",
       "      <th>NSP</th>\n",
       "    </tr>\n",
       "  </thead>\n",
       "  <tbody>\n",
       "    <tr>\n",
       "      <th>count</th>\n",
       "      <td>2124.000000</td>\n",
       "      <td>2124.000000</td>\n",
       "      <td>2124.000000</td>\n",
       "      <td>2124.000000</td>\n",
       "      <td>2124.000000</td>\n",
       "      <td>2124.000000</td>\n",
       "      <td>2124.000000</td>\n",
       "      <td>2124.000000</td>\n",
       "      <td>2124.000000</td>\n",
       "      <td>2124.000000</td>\n",
       "      <td>2124.000000</td>\n",
       "      <td>2124.000000</td>\n",
       "      <td>2124.000000</td>\n",
       "      <td>2124.000000</td>\n",
       "    </tr>\n",
       "    <tr>\n",
       "      <th>mean</th>\n",
       "      <td>133.342023</td>\n",
       "      <td>0.003220</td>\n",
       "      <td>0.009904</td>\n",
       "      <td>0.004394</td>\n",
       "      <td>0.001897</td>\n",
       "      <td>0.000003</td>\n",
       "      <td>0.000175</td>\n",
       "      <td>47.012459</td>\n",
       "      <td>1.364345</td>\n",
       "      <td>10.295650</td>\n",
       "      <td>8.280546</td>\n",
       "      <td>70.461052</td>\n",
       "      <td>0.316672</td>\n",
       "      <td>1.304797</td>\n",
       "    </tr>\n",
       "    <tr>\n",
       "      <th>std</th>\n",
       "      <td>11.212396</td>\n",
       "      <td>0.004371</td>\n",
       "      <td>0.067571</td>\n",
       "      <td>0.003340</td>\n",
       "      <td>0.003344</td>\n",
       "      <td>0.000141</td>\n",
       "      <td>0.000836</td>\n",
       "      <td>18.812403</td>\n",
       "      <td>1.174084</td>\n",
       "      <td>21.212676</td>\n",
       "      <td>7.736420</td>\n",
       "      <td>42.726905</td>\n",
       "      <td>0.642653</td>\n",
       "      <td>0.641660</td>\n",
       "    </tr>\n",
       "    <tr>\n",
       "      <th>min</th>\n",
       "      <td>51.842487</td>\n",
       "      <td>-0.019284</td>\n",
       "      <td>-0.480634</td>\n",
       "      <td>-0.014925</td>\n",
       "      <td>-0.015393</td>\n",
       "      <td>-0.001353</td>\n",
       "      <td>-0.005348</td>\n",
       "      <td>-63.000000</td>\n",
       "      <td>-6.600000</td>\n",
       "      <td>-91.000000</td>\n",
       "      <td>-50.700000</td>\n",
       "      <td>-174.000000</td>\n",
       "      <td>-3.000000</td>\n",
       "      <td>-1.025988</td>\n",
       "    </tr>\n",
       "    <tr>\n",
       "      <th>25%</th>\n",
       "      <td>126.000000</td>\n",
       "      <td>0.000000</td>\n",
       "      <td>0.000000</td>\n",
       "      <td>0.001858</td>\n",
       "      <td>0.000000</td>\n",
       "      <td>0.000000</td>\n",
       "      <td>0.000000</td>\n",
       "      <td>32.000000</td>\n",
       "      <td>0.700000</td>\n",
       "      <td>0.000000</td>\n",
       "      <td>4.600000</td>\n",
       "      <td>37.000000</td>\n",
       "      <td>0.000000</td>\n",
       "      <td>1.000000</td>\n",
       "    </tr>\n",
       "    <tr>\n",
       "      <th>50%</th>\n",
       "      <td>133.000000</td>\n",
       "      <td>0.001668</td>\n",
       "      <td>0.000000</td>\n",
       "      <td>0.004486</td>\n",
       "      <td>0.000000</td>\n",
       "      <td>0.000000</td>\n",
       "      <td>0.000000</td>\n",
       "      <td>49.000000</td>\n",
       "      <td>1.200000</td>\n",
       "      <td>0.000000</td>\n",
       "      <td>7.500000</td>\n",
       "      <td>68.000000</td>\n",
       "      <td>0.000000</td>\n",
       "      <td>1.000000</td>\n",
       "    </tr>\n",
       "    <tr>\n",
       "      <th>75%</th>\n",
       "      <td>140.000000</td>\n",
       "      <td>0.005612</td>\n",
       "      <td>0.002568</td>\n",
       "      <td>0.006536</td>\n",
       "      <td>0.003292</td>\n",
       "      <td>0.000000</td>\n",
       "      <td>0.000000</td>\n",
       "      <td>61.000000</td>\n",
       "      <td>1.700000</td>\n",
       "      <td>11.000000</td>\n",
       "      <td>10.800000</td>\n",
       "      <td>100.000000</td>\n",
       "      <td>1.000000</td>\n",
       "      <td>1.000000</td>\n",
       "    </tr>\n",
       "    <tr>\n",
       "      <th>max</th>\n",
       "      <td>214.000000</td>\n",
       "      <td>0.038567</td>\n",
       "      <td>0.961268</td>\n",
       "      <td>0.030002</td>\n",
       "      <td>0.030769</td>\n",
       "      <td>0.002706</td>\n",
       "      <td>0.010695</td>\n",
       "      <td>162.000000</td>\n",
       "      <td>13.800000</td>\n",
       "      <td>182.000000</td>\n",
       "      <td>101.400000</td>\n",
       "      <td>357.000000</td>\n",
       "      <td>3.000000</td>\n",
       "      <td>5.000000</td>\n",
       "    </tr>\n",
       "  </tbody>\n",
       "</table>\n",
       "</div>"
      ],
      "text/plain": [
       "                LB           AC           FM           UC           DL  \\\n",
       "count  2124.000000  2124.000000  2124.000000  2124.000000  2124.000000   \n",
       "mean    133.342023     0.003220     0.009904     0.004394     0.001897   \n",
       "std      11.212396     0.004371     0.067571     0.003340     0.003344   \n",
       "min      51.842487    -0.019284    -0.480634    -0.014925    -0.015393   \n",
       "25%     126.000000     0.000000     0.000000     0.001858     0.000000   \n",
       "50%     133.000000     0.001668     0.000000     0.004486     0.000000   \n",
       "75%     140.000000     0.005612     0.002568     0.006536     0.003292   \n",
       "max     214.000000     0.038567     0.961268     0.030002     0.030769   \n",
       "\n",
       "                DS           DP         ASTV         MSTV         ALTV  \\\n",
       "count  2124.000000  2124.000000  2124.000000  2124.000000  2124.000000   \n",
       "mean      0.000003     0.000175    47.012459     1.364345    10.295650   \n",
       "std       0.000141     0.000836    18.812403     1.174084    21.212676   \n",
       "min      -0.001353    -0.005348   -63.000000    -6.600000   -91.000000   \n",
       "25%       0.000000     0.000000    32.000000     0.700000     0.000000   \n",
       "50%       0.000000     0.000000    49.000000     1.200000     0.000000   \n",
       "75%       0.000000     0.000000    61.000000     1.700000    11.000000   \n",
       "max       0.002706     0.010695   162.000000    13.800000   182.000000   \n",
       "\n",
       "              MLTV        Width     Tendency          NSP  \n",
       "count  2124.000000  2124.000000  2124.000000  2124.000000  \n",
       "mean      8.280546    70.461052     0.316672     1.304797  \n",
       "std       7.736420    42.726905     0.642653     0.641660  \n",
       "min     -50.700000  -174.000000    -3.000000    -1.025988  \n",
       "25%       4.600000    37.000000     0.000000     1.000000  \n",
       "50%       7.500000    68.000000     0.000000     1.000000  \n",
       "75%      10.800000   100.000000     1.000000     1.000000  \n",
       "max     101.400000   357.000000     3.000000     5.000000  "
      ]
     },
     "execution_count": 42,
     "metadata": {},
     "output_type": "execute_result"
    }
   ],
   "source": [
    "data.describe()"
   ]
  },
  {
   "cell_type": "code",
   "execution_count": 47,
   "id": "95e5c583-4920-47e7-b2d4-1dd9d807c7f5",
   "metadata": {},
   "outputs": [
    {
     "data": {
      "text/plain": [
       "LB          140.000000\n",
       "AC            0.005612\n",
       "FM            0.002568\n",
       "UC            0.006536\n",
       "DL            0.003292\n",
       "DS            0.000000\n",
       "DP            0.000000\n",
       "ASTV         61.000000\n",
       "MSTV          1.700000\n",
       "ALTV         11.000000\n",
       "MLTV         10.800000\n",
       "Width       100.000000\n",
       "Tendency      1.000000\n",
       "NSP           1.000000\n",
       "Name: 0.75, dtype: float64"
      ]
     },
     "execution_count": 47,
     "metadata": {},
     "output_type": "execute_result"
    }
   ],
   "source": [
    "Q3=data.quantile(0.75)\n",
    "Q3"
   ]
  },
  {
   "cell_type": "code",
   "execution_count": 49,
   "id": "82254fdb-c774-469a-aa08-72f0d8fafad9",
   "metadata": {},
   "outputs": [
    {
     "data": {
      "text/plain": [
       "LB          126.000000\n",
       "AC            0.000000\n",
       "FM            0.000000\n",
       "UC            0.001858\n",
       "DL            0.000000\n",
       "DS            0.000000\n",
       "DP            0.000000\n",
       "ASTV         32.000000\n",
       "MSTV          0.700000\n",
       "ALTV          0.000000\n",
       "MLTV          4.600000\n",
       "Width        37.000000\n",
       "Tendency      0.000000\n",
       "NSP           1.000000\n",
       "Name: 0.25, dtype: float64"
      ]
     },
     "execution_count": 49,
     "metadata": {},
     "output_type": "execute_result"
    }
   ],
   "source": [
    "Q1=data.quantile(0.25)\n",
    "Q1"
   ]
  },
  {
   "cell_type": "code",
   "execution_count": 51,
   "id": "addc81e4-eaa1-4b86-a004-a47bd3e6e330",
   "metadata": {},
   "outputs": [
    {
     "data": {
      "text/plain": [
       "LB          14.000000\n",
       "AC           0.005612\n",
       "FM           0.002568\n",
       "UC           0.004678\n",
       "DL           0.003292\n",
       "DS           0.000000\n",
       "DP           0.000000\n",
       "ASTV        29.000000\n",
       "MSTV         1.000000\n",
       "ALTV        11.000000\n",
       "MLTV         6.200000\n",
       "Width       63.000000\n",
       "Tendency     1.000000\n",
       "NSP          0.000000\n",
       "dtype: float64"
      ]
     },
     "execution_count": 51,
     "metadata": {},
     "output_type": "execute_result"
    }
   ],
   "source": [
    "IQR=Q3-Q1\n",
    "IQR"
   ]
  },
  {
   "cell_type": "markdown",
   "id": "f6632e46-e40e-4cb8-affe-673c311bf289",
   "metadata": {},
   "source": [
    "####\n",
    "LB (Baseline FHR): Mean ~133 bpm, SD ~11.3. Normal FHR ranges support this.\n",
    "\n",
    "ASTV (Abnormal Short-Term Variability): High variability (Mean ~47, SD ~18.8), indicating strong signal variation in some cases.\n",
    "\n",
    "ALTV (Abnormal Long-Term Variability): Very skewed with outliers (Mean ~10.3, Max ~182, Min ~-91), suggesting inconsistencies.\n",
    "\n",
    "Width: Describes signal range. Wide span from -174 to 357, again suggesting possible anomalies or signal quality issues.\n",
    "\n",
    "NSP (Target Class): Numeric values from -1.02 to 5, presumably the class label (needs encoding or clarification if classification is intended)."
   ]
  },
  {
   "cell_type": "markdown",
   "id": "8ce81d8d-1aed-49d9-9709-80bb051bd77c",
   "metadata": {},
   "source": [
    "#### 3.Data Visualization"
   ]
  },
  {
   "cell_type": "markdown",
   "id": "0771d403-40a5-4327-9472-6a36c73a53f8",
   "metadata": {},
   "source": [
    "#### Histograms for numerical data"
   ]
  },
  {
   "cell_type": "code",
   "execution_count": 59,
   "id": "36f2a77f-03c0-40be-bd07-9c6d505b12e6",
   "metadata": {},
   "outputs": [
    {
     "data": {
      "image/png": "[encoded data removed]",
      "text/plain": [
       "<Figure size 600x300 with 1 Axes>"
      ]
     },
     "metadata": {},
     "output_type": "display_data"
    }
   ],
   "source": [
    "plt.figure(figsize=(6,3))\n",
    "plt.xlabel('Baseline Fetal Heart Rate',color='midnightblue')\n",
    "plt.ylabel('Number of persons',color='midnightblue')\n",
    "plt.hist(data['LB'],bins=10)\n",
    "plt.show()"
   ]
  },
  {
   "cell_type": "markdown",
   "id": "b39e2f8e-0939-462a-a312-a6faf0cd5a1e",
   "metadata": {},
   "source": [
    "#### the average fetal heart rate Between 110 and 160 bpm so around 100 persons are having low Baseline fetal rate"
   ]
  },
  {
   "cell_type": "code",
   "execution_count": 64,
   "id": "b0e92907-25a9-4431-b121-139ec980f922",
   "metadata": {},
   "outputs": [
    {
     "data": {
      "image/png": "[encoded data removed]",
      "text/plain": [
       "<Figure size 600x300 with 1 Axes>"
      ]
     },
     "metadata": {},
     "output_type": "display_data"
    }
   ],
   "source": [
    "plt.figure(figsize=(6,3))\n",
    "plt.xlabel('Fetal Movements',color='midnightblue')\n",
    "plt.ylabel('Number of persons',color='midnightblue')\n",
    "plt.hist(data['FM'],bins=10)\n",
    "plt.show()"
   ]
  },
  {
   "cell_type": "code",
   "execution_count": 67,
   "id": "c5090b88-a664-40a0-b0d3-853a2d046bee",
   "metadata": {},
   "outputs": [
    {
     "data": {
      "image/png": "[encoded data removed]",
      "text/plain": [
       "<Figure size 600x300 with 1 Axes>"
      ]
     },
     "metadata": {},
     "output_type": "display_data"
    }
   ],
   "source": [
    "plt.figure(figsize=(6,3))\n",
    "plt.xlabel('Uterine Contractions',color='midnightblue')\n",
    "plt.ylabel('Number of persons',color='midnightblue')\n",
    "plt.hist(data['UC'],bins=15)\n",
    "plt.show()"
   ]
  },
  {
   "cell_type": "code",
   "execution_count": 68,
   "id": "e17c304c-5509-408a-9e3f-9fce2bb7d9e4",
   "metadata": {},
   "outputs": [
    {
     "data": {
      "image/png": "[encoded data removed]",
      "text/plain": [
       "<Figure size 600x300 with 1 Axes>"
      ]
     },
     "metadata": {},
     "output_type": "display_data"
    }
   ],
   "source": [
    "plt.figure(figsize=(6,3))\n",
    "plt.xlabel('Decelerations Late',color='midnightblue')\n",
    "plt.ylabel('Number of persons',color='midnightblue')\n",
    "plt.hist(data['DL'],bins=15)\n",
    "plt.show()"
   ]
  },
  {
   "cell_type": "code",
   "execution_count": 69,
   "id": "9dbdc9df-96f8-41c4-abe6-90261d9663aa",
   "metadata": {},
   "outputs": [
    {
     "data": {
      "image/png": "[encoded data removed]",
      "text/plain": [
       "<Figure size 600x300 with 1 Axes>"
      ]
     },
     "metadata": {},
     "output_type": "display_data"
    }
   ],
   "source": [
    "plt.figure(figsize=(6,3))\n",
    "plt.xlabel('Abnormal Long Term Variability\"',color='midnightblue')\n",
    "plt.ylabel('Number of persons',color='midnightblue')\n",
    "plt.hist(data['ALTV'],bins=15)\n",
    "plt.show()"
   ]
  },
  {
   "cell_type": "markdown",
   "id": "db8f1580-c2f8-496f-bf9c-4f7bce2d135b",
   "metadata": {},
   "source": [
    "#### Box plots "
   ]
  },
  {
   "cell_type": "markdown",
   "id": "90e7c3d3-bd05-48f1-926b-1b73168168b0",
   "metadata": {},
   "source": [
    "#### In boxplot we can see extreme outliers"
   ]
  },
  {
   "cell_type": "code",
   "execution_count": 74,
   "id": "f59de5e6-eefb-49f8-b50d-9a01d24a9f87",
   "metadata": {},
   "outputs": [
    {
     "data": {
      "image/png": "[encoded data removed]",
      "text/plain": [
       "<Figure size 640x480 with 1 Axes>"
      ]
     },
     "metadata": {},
     "output_type": "display_data"
    }
   ],
   "source": [
    "\n",
    "plt.boxplot(data['ASTV'],patch_artist=True)\n",
    "plt.show()"
   ]
  },
  {
   "cell_type": "code",
   "execution_count": 75,
   "id": "1d4ebd7e-9199-4800-b882-fafab109d192",
   "metadata": {},
   "outputs": [
    {
     "data": {
      "image/png": "[encoded data removed]",
      "text/plain": [
       "<Figure size 640x480 with 1 Axes>"
      ]
     },
     "metadata": {},
     "output_type": "display_data"
    }
   ],
   "source": [
    "\n",
    "plt.boxplot(data['ALTV'],patch_artist=True)\n",
    "plt.show()"
   ]
  },
  {
   "cell_type": "markdown",
   "id": "778a8a66-d8ed-4fe1-a01f-e186d148a1e4",
   "metadata": {},
   "source": [
    "##### IN ALTV SO MANY EXTREME OUTLIERS ARE THERE"
   ]
  },
  {
   "cell_type": "code",
   "execution_count": 76,
   "id": "66374bac-2ae4-400f-bf21-e13cb0f450ae",
   "metadata": {},
   "outputs": [
    {
     "data": {
      "image/png": "[encoded data removed]",
      "text/plain": [
       "<Figure size 640x480 with 1 Axes>"
      ]
     },
     "metadata": {},
     "output_type": "display_data"
    }
   ],
   "source": [
    "plt.boxplot(data['MSTV'],patch_artist=True)\n",
    "plt.show()"
   ]
  },
  {
   "cell_type": "markdown",
   "id": "a3eb9a2d-f103-4a3a-bfa1-e2f77c90bd77",
   "metadata": {},
   "source": [
    "##### IN MSTV ALSO SO MANY EXTREME OUTLIERS ARE THERE"
   ]
  },
  {
   "cell_type": "code",
   "execution_count": 77,
   "id": "635ed531-c4f0-450b-baae-80413c2cea73",
   "metadata": {},
   "outputs": [
    {
     "data": {
      "image/png": "[encoded data removed]",
      "text/plain": [
       "<Figure size 640x480 with 1 Axes>"
      ]
     },
     "metadata": {},
     "output_type": "display_data"
    }
   ],
   "source": [
    "plt.boxplot(data['Width'],patch_artist=True)\n",
    "plt.show()"
   ]
  },
  {
   "cell_type": "code",
   "execution_count": 78,
   "id": "c1df80de-2edf-4745-a973-69757461e2d8",
   "metadata": {},
   "outputs": [
    {
     "data": {
      "image/png": "[encoded data removed]",
      "text/plain": [
       "<Figure size 640x480 with 1 Axes>"
      ]
     },
     "metadata": {},
     "output_type": "display_data"
    }
   ],
   "source": [
    "plt.boxplot(data['MLTV'],patch_artist=True)\n",
    "plt.show()"
   ]
  },
  {
   "cell_type": "markdown",
   "id": "bc70651d-b0d2-447f-91f2-7f4de4d78263",
   "metadata": {},
   "source": [
    "####\n",
    "ASTV, ALTV, MSTV, MLTV: Show significant spread with multiple extreme outliers.\n",
    "\n",
    "FM, UC, DL, DP: Many outliers, but also tight IQRs indicating most values are clustered.\n",
    "\n",
    "NSP and Tendency: Seem to have low variability with few or no outliers."
   ]
  },
  {
   "cell_type": "code",
   "execution_count": 82,
   "id": "873c1cee-8e6c-4c7c-8395-b7a296298b2d",
   "metadata": {},
   "outputs": [
    {
     "data": {
      "text/html": [
       "<div>\n",
       "<style scoped>\n",
       "    .dataframe tbody tr th:only-of-type {\n",
       "        vertical-align: middle;\n",
       "    }\n",
       "\n",
       "    .dataframe tbody tr th {\n",
       "        vertical-align: top;\n",
       "    }\n",
       "\n",
       "    .dataframe thead th {\n",
       "        text-align: right;\n",
       "    }\n",
       "</style>\n",
       "<table border=\"1\" class=\"dataframe\">\n",
       "  <thead>\n",
       "    <tr style=\"text-align: right;\">\n",
       "      <th></th>\n",
       "      <th>LB</th>\n",
       "      <th>AC</th>\n",
       "      <th>FM</th>\n",
       "      <th>UC</th>\n",
       "      <th>DL</th>\n",
       "      <th>DS</th>\n",
       "      <th>DP</th>\n",
       "      <th>ASTV</th>\n",
       "      <th>MSTV</th>\n",
       "      <th>ALTV</th>\n",
       "      <th>MLTV</th>\n",
       "      <th>Width</th>\n",
       "      <th>Tendency</th>\n",
       "      <th>NSP</th>\n",
       "    </tr>\n",
       "  </thead>\n",
       "  <tbody>\n",
       "    <tr>\n",
       "      <th>LB</th>\n",
       "      <td>1.000000</td>\n",
       "      <td>-0.063452</td>\n",
       "      <td>0.018809</td>\n",
       "      <td>-0.166642</td>\n",
       "      <td>-0.126557</td>\n",
       "      <td>-0.005439</td>\n",
       "      <td>-0.047726</td>\n",
       "      <td>0.241666</td>\n",
       "      <td>-0.169224</td>\n",
       "      <td>0.210673</td>\n",
       "      <td>-0.003225</td>\n",
       "      <td>-0.118375</td>\n",
       "      <td>0.237112</td>\n",
       "      <td>0.132008</td>\n",
       "    </tr>\n",
       "    <tr>\n",
       "      <th>AC</th>\n",
       "      <td>-0.063452</td>\n",
       "      <td>1.000000</td>\n",
       "      <td>0.009406</td>\n",
       "      <td>0.071552</td>\n",
       "      <td>-0.093330</td>\n",
       "      <td>-0.033109</td>\n",
       "      <td>-0.083330</td>\n",
       "      <td>-0.231058</td>\n",
       "      <td>0.133903</td>\n",
       "      <td>-0.271204</td>\n",
       "      <td>-0.104658</td>\n",
       "      <td>0.234720</td>\n",
       "      <td>0.031896</td>\n",
       "      <td>-0.312189</td>\n",
       "    </tr>\n",
       "    <tr>\n",
       "      <th>FM</th>\n",
       "      <td>0.018809</td>\n",
       "      <td>0.009406</td>\n",
       "      <td>1.000000</td>\n",
       "      <td>-0.053386</td>\n",
       "      <td>0.009641</td>\n",
       "      <td>0.029896</td>\n",
       "      <td>0.121248</td>\n",
       "      <td>-0.032838</td>\n",
       "      <td>0.017061</td>\n",
       "      <td>-0.012005</td>\n",
       "      <td>-0.006156</td>\n",
       "      <td>0.097125</td>\n",
       "      <td>-0.018408</td>\n",
       "      <td>0.073991</td>\n",
       "    </tr>\n",
       "    <tr>\n",
       "      <th>UC</th>\n",
       "      <td>-0.166642</td>\n",
       "      <td>0.071552</td>\n",
       "      <td>-0.053386</td>\n",
       "      <td>1.000000</td>\n",
       "      <td>0.189737</td>\n",
       "      <td>-0.006942</td>\n",
       "      <td>0.070348</td>\n",
       "      <td>-0.182379</td>\n",
       "      <td>0.189685</td>\n",
       "      <td>-0.227881</td>\n",
       "      <td>-0.048754</td>\n",
       "      <td>0.106550</td>\n",
       "      <td>-0.066949</td>\n",
       "      <td>-0.185542</td>\n",
       "    </tr>\n",
       "    <tr>\n",
       "      <th>DL</th>\n",
       "      <td>-0.126557</td>\n",
       "      <td>-0.093330</td>\n",
       "      <td>0.009641</td>\n",
       "      <td>0.189737</td>\n",
       "      <td>1.000000</td>\n",
       "      <td>0.058429</td>\n",
       "      <td>0.144853</td>\n",
       "      <td>-0.069907</td>\n",
       "      <td>0.410216</td>\n",
       "      <td>-0.187275</td>\n",
       "      <td>-0.164942</td>\n",
       "      <td>0.408427</td>\n",
       "      <td>-0.023759</td>\n",
       "      <td>0.025095</td>\n",
       "    </tr>\n",
       "    <tr>\n",
       "      <th>DS</th>\n",
       "      <td>-0.005439</td>\n",
       "      <td>-0.033109</td>\n",
       "      <td>0.029896</td>\n",
       "      <td>-0.006942</td>\n",
       "      <td>0.058429</td>\n",
       "      <td>1.000000</td>\n",
       "      <td>0.004282</td>\n",
       "      <td>0.008414</td>\n",
       "      <td>0.016079</td>\n",
       "      <td>-0.004400</td>\n",
       "      <td>0.034366</td>\n",
       "      <td>0.040831</td>\n",
       "      <td>-0.015408</td>\n",
       "      <td>0.065399</td>\n",
       "    </tr>\n",
       "    <tr>\n",
       "      <th>DP</th>\n",
       "      <td>-0.047726</td>\n",
       "      <td>-0.083330</td>\n",
       "      <td>0.121248</td>\n",
       "      <td>0.070348</td>\n",
       "      <td>0.144853</td>\n",
       "      <td>0.004282</td>\n",
       "      <td>1.000000</td>\n",
       "      <td>0.037955</td>\n",
       "      <td>0.119270</td>\n",
       "      <td>-0.077760</td>\n",
       "      <td>-0.113993</td>\n",
       "      <td>0.175240</td>\n",
       "      <td>-0.130510</td>\n",
       "      <td>0.294416</td>\n",
       "    </tr>\n",
       "    <tr>\n",
       "      <th>ASTV</th>\n",
       "      <td>0.241666</td>\n",
       "      <td>-0.231058</td>\n",
       "      <td>-0.032838</td>\n",
       "      <td>-0.182379</td>\n",
       "      <td>-0.069907</td>\n",
       "      <td>0.008414</td>\n",
       "      <td>0.037955</td>\n",
       "      <td>1.000000</td>\n",
       "      <td>-0.293820</td>\n",
       "      <td>0.357310</td>\n",
       "      <td>-0.219225</td>\n",
       "      <td>-0.207778</td>\n",
       "      <td>-0.011331</td>\n",
       "      <td>0.421175</td>\n",
       "    </tr>\n",
       "    <tr>\n",
       "      <th>MSTV</th>\n",
       "      <td>-0.169224</td>\n",
       "      <td>0.133903</td>\n",
       "      <td>0.017061</td>\n",
       "      <td>0.189685</td>\n",
       "      <td>0.410216</td>\n",
       "      <td>0.016079</td>\n",
       "      <td>0.119270</td>\n",
       "      <td>-0.293820</td>\n",
       "      <td>1.000000</td>\n",
       "      <td>-0.291979</td>\n",
       "      <td>0.028653</td>\n",
       "      <td>0.433232</td>\n",
       "      <td>-0.036652</td>\n",
       "      <td>-0.094634</td>\n",
       "    </tr>\n",
       "    <tr>\n",
       "      <th>ALTV</th>\n",
       "      <td>0.210673</td>\n",
       "      <td>-0.271204</td>\n",
       "      <td>-0.012005</td>\n",
       "      <td>-0.227881</td>\n",
       "      <td>-0.187275</td>\n",
       "      <td>-0.004400</td>\n",
       "      <td>-0.077760</td>\n",
       "      <td>0.357310</td>\n",
       "      <td>-0.291979</td>\n",
       "      <td>1.000000</td>\n",
       "      <td>-0.107331</td>\n",
       "      <td>-0.346496</td>\n",
       "      <td>0.036504</td>\n",
       "      <td>0.365218</td>\n",
       "    </tr>\n",
       "    <tr>\n",
       "      <th>MLTV</th>\n",
       "      <td>-0.003225</td>\n",
       "      <td>-0.104658</td>\n",
       "      <td>-0.006156</td>\n",
       "      <td>-0.048754</td>\n",
       "      <td>-0.164942</td>\n",
       "      <td>0.034366</td>\n",
       "      <td>-0.113993</td>\n",
       "      <td>-0.219225</td>\n",
       "      <td>0.028653</td>\n",
       "      <td>-0.107331</td>\n",
       "      <td>1.000000</td>\n",
       "      <td>0.059031</td>\n",
       "      <td>0.116672</td>\n",
       "      <td>-0.113445</td>\n",
       "    </tr>\n",
       "    <tr>\n",
       "      <th>Width</th>\n",
       "      <td>-0.118375</td>\n",
       "      <td>0.234720</td>\n",
       "      <td>0.097125</td>\n",
       "      <td>0.106550</td>\n",
       "      <td>0.408427</td>\n",
       "      <td>0.040831</td>\n",
       "      <td>0.175240</td>\n",
       "      <td>-0.207778</td>\n",
       "      <td>0.433232</td>\n",
       "      <td>-0.346496</td>\n",
       "      <td>0.059031</td>\n",
       "      <td>1.000000</td>\n",
       "      <td>0.081025</td>\n",
       "      <td>-0.067799</td>\n",
       "    </tr>\n",
       "    <tr>\n",
       "      <th>Tendency</th>\n",
       "      <td>0.237112</td>\n",
       "      <td>0.031896</td>\n",
       "      <td>-0.018408</td>\n",
       "      <td>-0.066949</td>\n",
       "      <td>-0.023759</td>\n",
       "      <td>-0.015408</td>\n",
       "      <td>-0.130510</td>\n",
       "      <td>-0.011331</td>\n",
       "      <td>-0.036652</td>\n",
       "      <td>0.036504</td>\n",
       "      <td>0.116672</td>\n",
       "      <td>0.081025</td>\n",
       "      <td>1.000000</td>\n",
       "      <td>-0.106481</td>\n",
       "    </tr>\n",
       "    <tr>\n",
       "      <th>NSP</th>\n",
       "      <td>0.132008</td>\n",
       "      <td>-0.312189</td>\n",
       "      <td>0.073991</td>\n",
       "      <td>-0.185542</td>\n",
       "      <td>0.025095</td>\n",
       "      <td>0.065399</td>\n",
       "      <td>0.294416</td>\n",
       "      <td>0.421175</td>\n",
       "      <td>-0.094634</td>\n",
       "      <td>0.365218</td>\n",
       "      <td>-0.113445</td>\n",
       "      <td>-0.067799</td>\n",
       "      <td>-0.106481</td>\n",
       "      <td>1.000000</td>\n",
       "    </tr>\n",
       "  </tbody>\n",
       "</table>\n",
       "</div>"
      ],
      "text/plain": [
       "                LB        AC        FM        UC        DL        DS  \\\n",
       "LB        1.000000 -0.063452  0.018809 -0.166642 -0.126557 -0.005439   \n",
       "AC       -0.063452  1.000000  0.009406  0.071552 -0.093330 -0.033109   \n",
       "FM        0.018809  0.009406  1.000000 -0.053386  0.009641  0.029896   \n",
       "UC       -0.166642  0.071552 -0.053386  1.000000  0.189737 -0.006942   \n",
       "DL       -0.126557 -0.093330  0.009641  0.189737  1.000000  0.058429   \n",
       "DS       -0.005439 -0.033109  0.029896 -0.006942  0.058429  1.000000   \n",
       "DP       -0.047726 -0.083330  0.121248  0.070348  0.144853  0.004282   \n",
       "ASTV      0.241666 -0.231058 -0.032838 -0.182379 -0.069907  0.008414   \n",
       "MSTV     -0.169224  0.133903  0.017061  0.189685  0.410216  0.016079   \n",
       "ALTV      0.210673 -0.271204 -0.012005 -0.227881 -0.187275 -0.004400   \n",
       "MLTV     -0.003225 -0.104658 -0.006156 -0.048754 -0.164942  0.034366   \n",
       "Width    -0.118375  0.234720  0.097125  0.106550  0.408427  0.040831   \n",
       "Tendency  0.237112  0.031896 -0.018408 -0.066949 -0.023759 -0.015408   \n",
       "NSP       0.132008 -0.312189  0.073991 -0.185542  0.025095  0.065399   \n",
       "\n",
       "                DP      ASTV      MSTV      ALTV      MLTV     Width  \\\n",
       "LB       -0.047726  0.241666 -0.169224  0.210673 -0.003225 -0.118375   \n",
       "AC       -0.083330 -0.231058  0.133903 -0.271204 -0.104658  0.234720   \n",
       "FM        0.121248 -0.032838  0.017061 -0.012005 -0.006156  0.097125   \n",
       "UC        0.070348 -0.182379  0.189685 -0.227881 -0.048754  0.106550   \n",
       "DL        0.144853 -0.069907  0.410216 -0.187275 -0.164942  0.408427   \n",
       "DS        0.004282  0.008414  0.016079 -0.004400  0.034366  0.040831   \n",
       "DP        1.000000  0.037955  0.119270 -0.077760 -0.113993  0.175240   \n",
       "ASTV      0.037955  1.000000 -0.293820  0.357310 -0.219225 -0.207778   \n",
       "MSTV      0.119270 -0.293820  1.000000 -0.291979  0.028653  0.433232   \n",
       "ALTV     -0.077760  0.357310 -0.291979  1.000000 -0.107331 -0.346496   \n",
       "MLTV     -0.113993 -0.219225  0.028653 -0.107331  1.000000  0.059031   \n",
       "Width     0.175240 -0.207778  0.433232 -0.346496  0.059031  1.000000   \n",
       "Tendency -0.130510 -0.011331 -0.036652  0.036504  0.116672  0.081025   \n",
       "NSP       0.294416  0.421175 -0.094634  0.365218 -0.113445 -0.067799   \n",
       "\n",
       "          Tendency       NSP  \n",
       "LB        0.237112  0.132008  \n",
       "AC        0.031896 -0.312189  \n",
       "FM       -0.018408  0.073991  \n",
       "UC       -0.066949 -0.185542  \n",
       "DL       -0.023759  0.025095  \n",
       "DS       -0.015408  0.065399  \n",
       "DP       -0.130510  0.294416  \n",
       "ASTV     -0.011331  0.421175  \n",
       "MSTV     -0.036652 -0.094634  \n",
       "ALTV      0.036504  0.365218  \n",
       "MLTV      0.116672 -0.113445  \n",
       "Width     0.081025 -0.067799  \n",
       "Tendency  1.000000 -0.106481  \n",
       "NSP      -0.106481  1.000000  "
      ]
     },
     "execution_count": 82,
     "metadata": {},
     "output_type": "execute_result"
    }
   ],
   "source": [
    "correlation=data.corr()\n",
    "correlation"
   ]
  },
  {
   "cell_type": "markdown",
   "id": "bcc4ba08-3fb5-4c18-a8a0-86a59f1c7e45",
   "metadata": {},
   "source": [
    "#### The correlation between features"
   ]
  },
  {
   "cell_type": "code",
   "execution_count": 84,
   "id": "3d49fc31-1b2a-45f6-8aa8-032642ebf403",
   "metadata": {},
   "outputs": [
    {
     "data": {
      "image/png": "[encoded data removed]",
      "text/plain": [
       "<Figure size 640x480 with 2 Axes>"
      ]
     },
     "metadata": {},
     "output_type": "display_data"
    }
   ],
   "source": [
    "colmap=['blue','yellow']\n",
    "sns.heatmap(correlation,cmap=colmap)\n",
    "plt.show()"
   ]
  },
  {
   "cell_type": "markdown",
   "id": "966b3009-b975-4366-b7b1-46866fd683f7",
   "metadata": {},
   "source": [
    "#### 4.Pattern Recognition and Insights:"
   ]
  },
  {
   "cell_type": "markdown",
   "id": "cc8db18b-3e4d-4ae5-b76b-fc3756de14ed",
   "metadata": {},
   "source": [
    "#####\n",
    "Strong/Moderate Correlations:\n",
    "ASTV (Abnormal Short-Term Variability) is typically:\n",
    "\n",
    "Positively correlated with MSTV (Mean Short-Term Variability): This suggests that as abnormal fluctuations increase, the average variability also rises — a possible marker of stress or irregular fetal activity.\n",
    "\n",
    "Negatively correlated with NSP (if it's a health score/class): Higher ASTV could indicate deteriorating fetal condition.\n",
    "\n",
    "ALTV (Abnormal Long-Term Variability):\n",
    "\n",
    "Often strongly correlated with MLTV (Mean Long-Term Variability) — indicating structural consistency between variability metrics.\n",
    "\n",
    "High ALTV might be linked to fetal distress and could correlate with elevated values in DP (Decelerations Prolonged).\n",
    "\n",
    "UC (Uterine Contractions) and DL (Late Decelerations):\n",
    "\n",
    "These may show positive correlations, as stronger or more frequent contractions often trigger delayed heart rate responses.\n",
    "\n",
    "FM (Fetal Movement):\n",
    "\n",
    "Might correlate negatively with DP or DL, suggesting fetal stress (less movement when decelerations occur more often)."
   ]
  },
  {
   "cell_type": "markdown",
   "id": "2f4db104-70ec-40fa-8781-5f7ef5e551f9",
   "metadata": {},
   "source": [
    "#### 5.Conclusion:"
   ]
  },
  {
   "cell_type": "markdown",
   "id": "6ca7dfef-515d-4bc3-8c36-d0206cc73100",
   "metadata": {},
   "source": [
    "#####\n",
    "Missing Values Detected:\n",
    "Several features (LB, AC, DS, DP, MLTV, etc.) had missing values. These must be handled carefully (e.g., imputation) before modeling to avoid bias or model degradation.\n",
    "\n",
    "Outliers Identified:\n",
    "Boxplots revealed extreme outliers in features like ASTV, ALTV, MSTV, Width, and FM. These can distort statistical summaries and model performance. Addressing them  is crucial.\n",
    "\n",
    "Strong Feature Correlations:\n",
    "\n",
    "ASTV and MSTV: Strong positive correlation, both measure short-term variability — a vital fetal health indicator.\n",
    "\n",
    "ALTV and MLTV: Similarly correlated, capturing long-term fluctuation behavior.\n",
    "\n",
    "UC and DL: Suggest interaction between uterine contractions and delayed heart rate responses — could be clinically significant.\n",
    "\n",
    "NSP (target/class) shows relationships with ASTV, ALTV, and UC, useful for predictive modeling."
   ]
  },
  {
   "cell_type": "code",
   "execution_count": null,
   "id": "a8750f10-e0ef-432c-bde9-d9e762977966",
   "metadata": {},
   "outputs": [],
   "source": []
  }
 ],
 "metadata": {
  "kernelspec": {
   "display_name": "Python 3 (ipykernel)",
   "language": "python",
   "name": "python3"
  },
  "language_info": {
   "codemirror_mode": {
    "name": "ipython",
    "version": 3
   },
   "file_extension": ".py",
   "mimetype": "text/x-python",
   "name": "python",
   "nbconvert_exporter": "python",
   "pygments_lexer": "ipython3",
   "version": "3.12.7"
  }
 },
 "nbformat": 4,
 "nbformat_minor": 5
}
